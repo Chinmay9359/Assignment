{
 "cells": [
  {
   "cell_type": "code",
   "execution_count": null,
   "id": "69baecdd-8989-4f87-8f0d-11f9e8119427",
   "metadata": {},
   "outputs": [],
   "source": []
  },
  {
   "cell_type": "code",
   "execution_count": null,
   "id": "a7408fda-1189-4d59-9b3b-f649489e0e63",
   "metadata": {},
   "outputs": [],
   "source": []
  },
  {
   "cell_type": "code",
   "execution_count": null,
   "id": "772b10a9-6a5b-4d81-b1ff-7a6c955889c9",
   "metadata": {},
   "outputs": [],
   "source": []
  },
  {
   "cell_type": "code",
   "execution_count": 3,
   "id": "a245f54a-a3cf-4115-9fd7-1fed0f5e4eb7",
   "metadata": {
    "tags": []
   },
   "outputs": [
    {
     "name": "stdin",
     "output_type": "stream",
     "text": [
      "enter your marks 34\n"
     ]
    },
    {
     "ename": "TypeError",
     "evalue": "'>=' not supported between instances of 'str' and 'int'",
     "output_type": "error",
     "traceback": [
      "\u001b[1;31m---------------------------------------------------------------------------\u001b[0m",
      "\u001b[1;31mTypeError\u001b[0m                                 Traceback (most recent call last)",
      "Cell \u001b[1;32mIn[3], line 2\u001b[0m\n\u001b[0;32m      1\u001b[0m marks \u001b[38;5;241m=\u001b[39m \u001b[38;5;28minput\u001b[39m(\u001b[38;5;124m\"\u001b[39m\u001b[38;5;124menter your marks\u001b[39m\u001b[38;5;124m\"\u001b[39m)\n\u001b[1;32m----> 2\u001b[0m \u001b[38;5;28;01mif\u001b[39;00m \u001b[43mmarks\u001b[49m\u001b[43m \u001b[49m\u001b[38;5;241;43m>\u001b[39;49m\u001b[38;5;241;43m=\u001b[39;49m\u001b[38;5;241;43m80\u001b[39;49m :\n\u001b[0;32m      3\u001b[0m     \u001b[38;5;28mprint\u001b[39m(\u001b[38;5;124m\"\u001b[39m\u001b[38;5;124myou will be a part of A0 batch\u001b[39m\u001b[38;5;124m\"\u001b[39m) \n\u001b[0;32m      4\u001b[0m \u001b[38;5;28;01melif\u001b[39;00m marks \u001b[38;5;241m>\u001b[39m\u001b[38;5;241m=\u001b[39m\u001b[38;5;241m60\u001b[39m \u001b[38;5;129;01mand\u001b[39;00m marks\u001b[38;5;241m<\u001b[39m\u001b[38;5;241m80\u001b[39m :\n",
      "\u001b[1;31mTypeError\u001b[0m: '>=' not supported between instances of 'str' and 'int'"
     ]
    }
   ],
   "source": [
    "marks = input(\"enter your marks\")  #this input converts int to string normally#\n",
    "if marks >=80 :\n",
    "    print(\"you will be a part of A0 batch\") \n",
    "elif marks >=60 and marks<80 :\n",
    "    print(\"you will be a part of A1 batch\")\n",
    "elif marks >= 40 and marks < 60:\n",
    "    print(\" you will be a part of A2 batch\")\n",
    "else :\n",
    "    print(\" you will be a part of A3 batch\")"
   ]
  },
  {
   "cell_type": "code",
   "execution_count": null,
   "id": "4cf9907e-7fae-4539-a9ee-6bb9ec2ad629",
   "metadata": {},
   "outputs": [],
   "source": []
  },
  {
   "cell_type": "code",
   "execution_count": 5,
   "id": "134218da-2159-466f-97a7-a974ae6c8e75",
   "metadata": {
    "tags": []
   },
   "outputs": [
    {
     "name": "stdin",
     "output_type": "stream",
     "text": [
      "enter your marks 97\n"
     ]
    },
    {
     "name": "stdout",
     "output_type": "stream",
     "text": [
      "you will be a part of A0 batch\n"
     ]
    }
   ],
   "source": [
    "marks = int(input(\"enter your marks\"))  #now data in integer#\n",
    "if marks >=80 :\n",
    "    print(\"you will be a part of A0 batch\") \n",
    "elif marks >=60 and marks<80 :\n",
    "    print(\"you will be a part of A1 batch\")\n",
    "elif marks >= 40 and marks < 60:\n",
    "    print(\" you will be a part of A2 batch\")\n",
    "else :\n",
    "    print(\" you will be a part of A3 batch\")"
   ]
  },
  {
   "cell_type": "code",
   "execution_count": 6,
   "id": "c2f3763f-d8ad-44f9-a294-e51de06f8f49",
   "metadata": {
    "tags": []
   },
   "outputs": [
    {
     "data": {
      "text/plain": [
       "int"
      ]
     },
     "execution_count": 6,
     "metadata": {},
     "output_type": "execute_result"
    }
   ],
   "source": [
    "type(marks)"
   ]
  },
  {
   "cell_type": "code",
   "execution_count": null,
   "id": "fdda9926-5b36-4d56-af70-d31ccc710b35",
   "metadata": {},
   "outputs": [],
   "source": []
  },
  {
   "cell_type": "code",
   "execution_count": 7,
   "id": "fd5c88c7-bc48-41c2-93f2-af2566c1bfba",
   "metadata": {
    "tags": []
   },
   "outputs": [
    {
     "name": "stdin",
     "output_type": "stream",
     "text": [
      "enter price 668\n"
     ]
    },
    {
     "name": "stdout",
     "output_type": "stream",
     "text": [
      "I will purchase\n"
     ]
    }
   ],
   "source": [
    "price= int(input(\"enter price\"))\n",
    "if price > 1000 :\n",
    "    print(\"I will not purchase\")\n",
    "else:\n",
    "    print(\"I will purchase\")"
   ]
  },
  {
   "cell_type": "code",
   "execution_count": null,
   "id": "30080b8b-2f0e-4edf-8fb0-98e18503e917",
   "metadata": {},
   "outputs": [],
   "source": []
  },
  {
   "cell_type": "code",
   "execution_count": 9,
   "id": "cbd18b50-8e6c-474e-bbf9-ba247e54fd7b",
   "metadata": {
    "tags": []
   },
   "outputs": [
    {
     "name": "stdin",
     "output_type": "stream",
     "text": [
      "enter price 44\n"
     ]
    }
   ],
   "source": [
    "price= int(input(\"enter price\"))\n",
    "if price > 1000 :\n",
    "    print(\"I will not purchase\")\n",
    "\n",
    "    "
   ]
  },
  {
   "cell_type": "code",
   "execution_count": null,
   "id": "81ca6baf-2bfb-4308-930d-6b89e8728751",
   "metadata": {},
   "outputs": [],
   "source": []
  },
  {
   "cell_type": "code",
   "execution_count": 16,
   "id": "d7604e3b-dc04-4f3f-b293-baa46a3f62db",
   "metadata": {
    "tags": []
   },
   "outputs": [
    {
     "name": "stdin",
     "output_type": "stream",
     "text": [
      "enter price 1600\n"
     ]
    },
    {
     "name": "stdout",
     "output_type": "stream",
     "text": [
      "I will not purchase\n",
      " Its ok\n"
     ]
    }
   ],
   "source": [
    "price= int(input(\"enter price\"))\n",
    "if price > 1000 :\n",
    "    print(\"I will not purchase\")\n",
    "    if price > 5000:\n",
    "         print(\"this is too much\")\n",
    "    elif price < 2000:\n",
    "        print(\" Its ok\")\n",
    "else:\n",
    "    print(\"its time to purchase\")\n",
    "\n",
    "    "
   ]
  },
  {
   "cell_type": "code",
   "execution_count": 17,
   "id": "2e8586d3-249d-4f35-8dc6-ba001c3b59f8",
   "metadata": {
    "tags": []
   },
   "outputs": [],
   "source": [
    "l=[1,2,3,4,5,6,7,8]  #looping, condition add 1 to each#"
   ]
  },
  {
   "cell_type": "code",
   "execution_count": 18,
   "id": "e6ea0a4b-b098-4412-975e-30f6bf715d29",
   "metadata": {
    "tags": []
   },
   "outputs": [
    {
     "data": {
      "text/plain": [
       "1"
      ]
     },
     "execution_count": 18,
     "metadata": {},
     "output_type": "execute_result"
    }
   ],
   "source": [
    "l[0]"
   ]
  },
  {
   "cell_type": "code",
   "execution_count": 19,
   "id": "2c940b5e-83ce-49a1-8363-f6e7c524c066",
   "metadata": {
    "tags": []
   },
   "outputs": [
    {
     "data": {
      "text/plain": [
       "2"
      ]
     },
     "execution_count": 19,
     "metadata": {},
     "output_type": "execute_result"
    }
   ],
   "source": [
    "l[0]+1\n"
   ]
  },
  {
   "cell_type": "code",
   "execution_count": 20,
   "id": "075544fb-e49d-4979-af98-cb41bf17814e",
   "metadata": {
    "tags": []
   },
   "outputs": [],
   "source": [
    "l1=[]"
   ]
  },
  {
   "cell_type": "code",
   "execution_count": 22,
   "id": "8c0a9985-1180-43d6-b1c4-4286775ed985",
   "metadata": {
    "tags": []
   },
   "outputs": [],
   "source": [
    "l1.append(l[0]+1)"
   ]
  },
  {
   "cell_type": "code",
   "execution_count": null,
   "id": "bd568f43-049d-44d7-80ff-91e7362e5170",
   "metadata": {},
   "outputs": [],
   "source": []
  },
  {
   "cell_type": "code",
   "execution_count": 23,
   "id": "7d1fbe28-0611-4d77-bfcf-4d7d0d885112",
   "metadata": {
    "tags": []
   },
   "outputs": [
    {
     "data": {
      "text/plain": [
       "[2]"
      ]
     },
     "execution_count": 23,
     "metadata": {},
     "output_type": "execute_result"
    }
   ],
   "source": [
    "l1"
   ]
  },
  {
   "cell_type": "code",
   "execution_count": 24,
   "id": "04d3dbf9-d72b-4fa8-b5d9-e76d62b187b3",
   "metadata": {
    "tags": []
   },
   "outputs": [],
   "source": [
    "#we have do this which each value, hence loop used#\n"
   ]
  },
  {
   "cell_type": "code",
   "execution_count": 25,
   "id": "5484bd37-7f12-4b71-9d86-08b9f2aaacab",
   "metadata": {
    "tags": []
   },
   "outputs": [
    {
     "name": "stdout",
     "output_type": "stream",
     "text": [
      "1\n",
      "2\n",
      "3\n",
      "4\n",
      "5\n",
      "6\n",
      "7\n",
      "8\n"
     ]
    }
   ],
   "source": [
    "for i in l:\n",
    "    print(i)"
   ]
  },
  {
   "cell_type": "code",
   "execution_count": null,
   "id": "84abc034-bd25-4a3a-b700-94a971e580dd",
   "metadata": {},
   "outputs": [],
   "source": []
  },
  {
   "cell_type": "code",
   "execution_count": 26,
   "id": "3c8c6e9a-0bbc-47ea-9290-81bf0d9e30b9",
   "metadata": {
    "tags": []
   },
   "outputs": [
    {
     "name": "stdout",
     "output_type": "stream",
     "text": [
      "2\n",
      "3\n",
      "4\n",
      "5\n",
      "6\n",
      "7\n",
      "8\n",
      "9\n"
     ]
    }
   ],
   "source": [
    "for i in l:\n",
    "    print(i+1)"
   ]
  },
  {
   "cell_type": "code",
   "execution_count": 27,
   "id": "6ab0ed92-20b0-4db1-99f5-fdaf45f6afab",
   "metadata": {
    "tags": []
   },
   "outputs": [],
   "source": [
    "#we want outcome as list#\n"
   ]
  },
  {
   "cell_type": "code",
   "execution_count": null,
   "id": "8aba7dc6-6ba7-496a-9c44-93a1312217b6",
   "metadata": {},
   "outputs": [],
   "source": []
  },
  {
   "cell_type": "code",
   "execution_count": 29,
   "id": "645647ed-56a9-457c-8f92-65b9b1d47d76",
   "metadata": {
    "tags": []
   },
   "outputs": [
    {
     "name": "stdout",
     "output_type": "stream",
     "text": [
      "2\n",
      "3\n",
      "4\n",
      "5\n",
      "6\n",
      "7\n",
      "8\n",
      "9\n"
     ]
    }
   ],
   "source": [
    "l1=[]\n",
    "for i in l:\n",
    "    print(i+1)\n",
    "    l1.append(i+1)\n",
    "    \n",
    "    "
   ]
  },
  {
   "cell_type": "code",
   "execution_count": 30,
   "id": "d0c828b3-fc28-4a08-a2ec-912f8177844f",
   "metadata": {
    "tags": []
   },
   "outputs": [
    {
     "data": {
      "text/plain": [
       "[2, 3, 4, 5, 6, 7, 8, 9]"
      ]
     },
     "execution_count": 30,
     "metadata": {},
     "output_type": "execute_result"
    }
   ],
   "source": [
    "l1"
   ]
  },
  {
   "cell_type": "code",
   "execution_count": 31,
   "id": "0b8baea0-4d63-429d-b820-f2522773bbbd",
   "metadata": {
    "tags": []
   },
   "outputs": [],
   "source": [
    "l=[\"chins\",\"ashu\",\"manu\",\"sonu\"] #convert in uppercase and give a list#"
   ]
  },
  {
   "cell_type": "code",
   "execution_count": 32,
   "id": "44e088a2-d1b0-4cb1-af22-e97a9bdbe475",
   "metadata": {
    "tags": []
   },
   "outputs": [
    {
     "name": "stdout",
     "output_type": "stream",
     "text": [
      "chins\n",
      "ashu\n",
      "manu\n",
      "sonu\n"
     ]
    }
   ],
   "source": [
    "for i in l:\n",
    "    print(i)"
   ]
  },
  {
   "cell_type": "code",
   "execution_count": null,
   "id": "711fd004-5b7c-4f43-a72b-ff49cf79ada9",
   "metadata": {},
   "outputs": [],
   "source": []
  },
  {
   "cell_type": "code",
   "execution_count": 33,
   "id": "a249307d-4c89-464e-99cf-4ddfe295d083",
   "metadata": {
    "tags": []
   },
   "outputs": [
    {
     "name": "stdout",
     "output_type": "stream",
     "text": [
      "chins\n",
      "ashu\n",
      "manu\n",
      "sonu\n"
     ]
    }
   ],
   "source": [
    "l1=[]\n",
    "for i in l:\n",
    "    print(i)\n",
    "    l1.append(i.upper())"
   ]
  },
  {
   "cell_type": "code",
   "execution_count": 34,
   "id": "ceadd535-566b-4fc7-8af7-e5be60d8fde6",
   "metadata": {
    "tags": []
   },
   "outputs": [
    {
     "data": {
      "text/plain": [
       "['CHINS', 'ASHU', 'MANU', 'SONU']"
      ]
     },
     "execution_count": 34,
     "metadata": {},
     "output_type": "execute_result"
    }
   ],
   "source": [
    "l1"
   ]
  },
  {
   "cell_type": "code",
   "execution_count": 35,
   "id": "94ba2a41-31f2-4adf-ba83-ca9245c51e2f",
   "metadata": {
    "tags": []
   },
   "outputs": [],
   "source": [
    "l=[1,2,3,4,8.9,\"abc\",\"chinmay\"]"
   ]
  },
  {
   "cell_type": "code",
   "execution_count": 36,
   "id": "760ea7e3-f5e2-4e02-91b4-d4d67d831b3d",
   "metadata": {
    "tags": []
   },
   "outputs": [],
   "source": [
    "# make 2 separate list of string and integer#"
   ]
  },
  {
   "cell_type": "code",
   "execution_count": 38,
   "id": "0c569ea5-179e-46f6-a6d0-5633d5a3a905",
   "metadata": {
    "tags": []
   },
   "outputs": [],
   "source": [
    "l1_num=[]\n",
    "l2_str=[]\n",
    "\n",
    "for i in l:\n",
    "    if type(i)==int or type(i) == float :\n",
    "        l1_num.append(i)\n",
    "    else:\n",
    "        l2_str.append(i)\n"
   ]
  },
  {
   "cell_type": "code",
   "execution_count": 39,
   "id": "97019cdd-ea82-48fe-9e48-3e55b62e6ebf",
   "metadata": {
    "tags": []
   },
   "outputs": [
    {
     "data": {
      "text/plain": [
       "['CHINS', 'ASHU', 'MANU', 'SONU']"
      ]
     },
     "execution_count": 39,
     "metadata": {},
     "output_type": "execute_result"
    }
   ],
   "source": [
    "l1\n"
   ]
  },
  {
   "cell_type": "code",
   "execution_count": 40,
   "id": "9dc96a8b-e237-45c4-b512-78dbcea3018f",
   "metadata": {
    "tags": []
   },
   "outputs": [
    {
     "data": {
      "text/plain": [
       "[1, 2, 3, 4, 8.9]"
      ]
     },
     "execution_count": 40,
     "metadata": {},
     "output_type": "execute_result"
    }
   ],
   "source": [
    "l1_num"
   ]
  },
  {
   "cell_type": "code",
   "execution_count": 42,
   "id": "5b9c147e-f031-4abe-a733-12fda0bc2f86",
   "metadata": {
    "tags": []
   },
   "outputs": [
    {
     "data": {
      "text/plain": [
       "['abc', 'chinmay']"
      ]
     },
     "execution_count": 42,
     "metadata": {},
     "output_type": "execute_result"
    }
   ],
   "source": [
    "l2_str\n"
   ]
  },
  {
   "cell_type": "code",
   "execution_count": null,
   "id": "7988b7ed-847a-4910-a112-acde87e9f266",
   "metadata": {},
   "outputs": [],
   "source": []
  }
 ],
 "metadata": {
  "kernelspec": {
   "display_name": "Python 3 (ipykernel)",
   "language": "python",
   "name": "python3"
  },
  "language_info": {
   "codemirror_mode": {
    "name": "ipython",
    "version": 3
   },
   "file_extension": ".py",
   "mimetype": "text/x-python",
   "name": "python",
   "nbconvert_exporter": "python",
   "pygments_lexer": "ipython3",
   "version": "3.11.2"
  }
 },
 "nbformat": 4,
 "nbformat_minor": 5
}
